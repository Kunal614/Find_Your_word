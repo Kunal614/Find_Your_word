{
 "cells": [
  {
   "cell_type": "code",
   "execution_count": 9,
   "metadata": {},
   "outputs": [],
   "source": [
    "from nltk.corpus import wordnet\n",
    "import nltk"
   ]
  },
  {
   "cell_type": "code",
   "execution_count": 6,
   "metadata": {},
   "outputs": [
    {
     "name": "stdout",
     "output_type": "stream",
     "text": [
      "showing info https://raw.githubusercontent.com/nltk/nltk_data/gh-pages/index.xml\n"
     ]
    },
    {
     "data": {
      "text/plain": [
       "True"
      ]
     },
     "execution_count": 6,
     "metadata": {},
     "output_type": "execute_result"
    }
   ],
   "source": [
    "nltk.download()"
   ]
  },
  {
   "cell_type": "code",
   "execution_count": 11,
   "metadata": {},
   "outputs": [
    {
     "name": "stdout",
     "output_type": "stream",
     "text": [
      "[Synset('plan.n.01'), Synset('design.n.02'), Synset('plan.n.03'), Synset('plan.v.01'), Synset('plan.v.02'), Synset('plan.v.03'), Synset('design.v.04')]\n"
     ]
    }
   ],
   "source": [
    "#Synonyms\n",
    "print(wordnet.synsets(\"plan\"))"
   ]
  },
  {
   "cell_type": "code",
   "execution_count": 15,
   "metadata": {},
   "outputs": [
    {
     "name": "stdout",
     "output_type": "stream",
     "text": [
      "{'evilness', 'evil', 'bad', 'ill', 'badness'}\n"
     ]
    }
   ],
   "source": [
    "#antonyms\n",
    "word = []\n",
    "for syn in wordnet.synsets(\"good\"):\n",
    "            for i in syn.lemmas():\n",
    "                if len(i.antonyms())!= 0 :\n",
    "                    word.append(i.antonyms()[0].name())\n",
    "                # word.append(i.antonyms()[0].name())\n",
    "word = set(word)   \n",
    "print(word)"
   ]
  },
  {
   "cell_type": "code",
   "execution_count": 17,
   "metadata": {},
   "outputs": [
    {
     "name": "stdout",
     "output_type": "stream",
     "text": [
      "a series of steps to be carried out or goals to be accomplished\n"
     ]
    }
   ],
   "source": [
    "#meaning\n",
    "syn =  wordnet.synsets(\"plan\")\n",
    "print(syn[0].definition())"
   ]
  },
  {
   "cell_type": "code",
   "execution_count": 57,
   "metadata": {},
   "outputs": [
    {
     "name": "stdout",
     "output_type": "stream",
     "text": [
      "0\n",
      "enemy\n",
      "['the enemy attacked at dawn']\n"
     ]
    }
   ],
   "source": [
    "#make sentence\n",
    "syn1 = wordnet.synsets(\"enemy\")\n",
    "print(syn1[1].lemmas()[0].name())\n",
    "print(syn1)\n",
    "word = \"enemy\"\n",
    "flag=0\n",
    "for syn in wordnet.synsets(\"enemy\"):\n",
    "    for cnt , i in enumerate(syn.lemmas()):\n",
    "        if word == i.name():\n",
    "#             print(i.name() , cnt)\n",
    "            index = cnt\n",
    "            flag=1\n",
    "            break\n",
    "    if flag == 1:\n",
    "        break\n",
    "        \n",
    "print(index)            \n",
    "print(syn1[index].lemmas()[0].name())\n",
    "print(syn1[index].examples())"
   ]
  },
  {
   "cell_type": "code",
   "execution_count": 69,
   "metadata": {},
   "outputs": [
    {
     "name": "stdout",
     "output_type": "stream",
     "text": [
      "Synset('evil.n.01')\n",
      "0.2857142857142857\n"
     ]
    }
   ],
   "source": [
    "#compare two words\n",
    "\n",
    "w1 = wordnet.synset('evil.n.01')\n",
    "w2 = wordnet.synset('bad.n.01')\n",
    "print(w1.wup_similarity(w2))"
   ]
  },
  {
   "cell_type": "code",
   "execution_count": null,
   "metadata": {},
   "outputs": [],
   "source": [
    "#parts of speech\n"
   ]
  }
 ],
 "metadata": {
  "kernelspec": {
   "display_name": "Python 3",
   "language": "python",
   "name": "python3"
  },
  "language_info": {
   "codemirror_mode": {
    "name": "ipython",
    "version": 3
   },
   "file_extension": ".py",
   "mimetype": "text/x-python",
   "name": "python",
   "nbconvert_exporter": "python",
   "pygments_lexer": "ipython3",
   "version": "3.7.7"
  }
 },
 "nbformat": 4,
 "nbformat_minor": 4
}
